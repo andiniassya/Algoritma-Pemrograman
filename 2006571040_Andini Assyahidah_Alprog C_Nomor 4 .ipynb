{
 "cells": [
  {
   "cell_type": "code",
   "execution_count": 4,
   "metadata": {},
   "outputs": [
    {
     "name": "stdout",
     "output_type": "stream",
     "text": [
      "Selamat datang di game tebak angka !\n",
      "masukkan jumlah digit yang ingin ditebak: 4\n",
      "Masukkan 4 digit angka tebakan : 1111\n",
      "0 angka benar, 0 angka di posisi yang benar\n",
      "Masukkan 4 digit angka tebakan : 2222\n",
      "1 angka benar, 1 angka di posisi yang benar\n",
      "Masukkan 4 digit angka tebakan : 3333\n",
      "1 angka benar, 1 angka di posisi yang benar\n",
      "Masukkan 4 digit angka tebakan : 4444\n",
      "1 angka benar, 1 angka di posisi yang benar\n",
      "Masukkan 4 digit angka tebakan : 6666\n",
      "0 angka benar, 0 angka di posisi yang benar\n",
      "Masukkan 4 digit angka tebakan : 5555\n",
      "0 angka benar, 0 angka di posisi yang benar\n",
      "Masukkan 4 digit angka tebakan : 7777\n",
      "0 angka benar, 0 angka di posisi yang benar\n",
      "Masukkan 4 digit angka tebakan : 8888\n",
      "0 angka benar, 0 angka di posisi yang benar\n",
      "Masukkan 4 digit angka tebakan : 9999\n",
      "1 angka benar, 1 angka di posisi yang benar\n",
      "Masukkan 4 digit angka tebakan : 2349\n",
      "4 angka benar, 1 angka di posisi yang benar\n",
      "Masukkan 4 digit angka tebakan : 2439\n",
      "4 angka benar, 2 angka di posisi yang benar\n",
      "Masukkan 4 digit angka tebakan : 9432\n",
      "4 angka benar, 1 angka di posisi yang benar\n",
      "Masukkan 4 digit angka tebakan : 4329\n",
      "4 angka benar, 0 angka di posisi yang benar\n",
      "Masukkan 4 digit angka tebakan : 4239\n",
      "4 angka benar, 1 angka di posisi yang benar\n",
      "Masukkan 4 digit angka tebakan : 2493\n",
      "4 angka benar, 1 angka di posisi yang benar\n",
      "Masukkan 4 digit angka tebakan : 2349\n",
      "4 angka benar, 1 angka di posisi yang benar\n",
      "Masukkan 4 digit angka tebakan : 3429\n",
      "4 angka benar, 0 angka di posisi yang benar\n",
      "Masukkan 4 digit angka tebakan : 3429\n",
      "4 angka benar, 0 angka di posisi yang benar\n",
      "Masukkan 4 digit angka tebakan : 2934\n",
      "Selamat tebakanmu benar!\n",
      "\n",
      "Kamu selesai dalam 18 percobaan\n"
     ]
    }
   ],
   "source": [
    "print(\"Selamat datang di game tebak angka !\")\n",
    "import random \n",
    "\n",
    "digit=int(input('masukkan jumlah digit yang ingin ditebak: '))\n",
    "angkatebak = str(random.randint(0,10**(digit)-1))#merandom angka\n",
    "\n",
    "\n",
    "A=0\n",
    "\n",
    "while True:\n",
    "    tebakan = input(\"Masukkan {} digit angka tebakan : \".format(digit))\n",
    "    tebakan=int(tebakan) #diubah ke bentuk integer\n",
    "    tebak=str(tebakan) #mengubah ke bentuk string\n",
    "    if tebak==angkatebak:\n",
    "        print(\"Selamat tebakanmu benar!\\n\")\n",
    "        print(\"Kamu selesai dalam {} percobaan\".format(A)) #outuput jumlah percobaan\n",
    "        break\n",
    "        \n",
    "    else:\n",
    "        posisi_sesuai = 0\n",
    "        benar = 0\n",
    "        \n",
    "        a = []\n",
    "        for i in range(len(tebak)):\n",
    "            if tebak[i] not in a:\n",
    "                benar = benar+ angkatebak.count(tebak[i])\n",
    "                a.append(tebak[i])\n",
    "        \n",
    "       \n",
    "        for i in range(len(angkatebak)):\n",
    "            if tebak[i]== angkatebak[i]:\n",
    "                posisi_sesuai = posisi_sesuai+1\n",
    "                     \n",
    "        A = A+1 #add dan assign\n",
    "        print(\"{} angka benar, {} angka di posisi yang benar\".format(benar,posisi_sesuai))    "
   ]
  },
  {
   "cell_type": "raw",
   "metadata": {},
   "source": [
    "Soal 4 : Tebak angka\n",
    "Algoritmanya :\n",
    "1. import module random\n",
    "2. mendefinisikan fungsinya\n",
    "3. menginisiasikan misal A=0\n",
    "4. input digit yang mau ditebak\n",
    "5. untuk menghasilkan digit, inisiasikan bahwa angka=angkaacak\n",
    "4. Ketika benar, program akan meminta input sebanyak digit yang dipilih\n",
    "5. program akan menginfokan jumlah angka yang benar dan posisi angka yang benar\n",
    "6. jika tebakan sudah sama, maka program akan memberitahu bahwa tebakan sudah benar\n",
    "7. di akhir akan diinfokan banyak percobaan yang telah dilakukan"
   ]
  }
 ],
 "metadata": {
  "kernelspec": {
   "display_name": "Python 3",
   "language": "python",
   "name": "python3"
  },
  "language_info": {
   "codemirror_mode": {
    "name": "ipython",
    "version": 3
   },
   "file_extension": ".py",
   "mimetype": "text/x-python",
   "name": "python",
   "nbconvert_exporter": "python",
   "pygments_lexer": "ipython3",
   "version": "3.8.3"
  }
 },
 "nbformat": 4,
 "nbformat_minor": 4
}
