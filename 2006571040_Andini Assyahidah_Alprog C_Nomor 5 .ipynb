{
 "cells": [
  {
   "cell_type": "code",
   "execution_count": 1,
   "metadata": {},
   "outputs": [
    {
     "name": "stdout",
     "output_type": "stream",
     "text": [
      "Selamat datang di program corat-coret\n",
      "Ini ada papan kosong untuk corat-coret\n"
     ]
    },
    {
     "data": {
      "image/png": "[encoded data removed]",
      "text/plain": [
       "<Figure size 432x288 with 1 Axes>"
      ]
     },
     "metadata": {
      "needs_background": "light"
     },
     "output_type": "display_data"
    },
    {
     "name": "stdout",
     "output_type": "stream",
     "text": [
      "_____________________\n",
      "\n",
      "Isi dengan titik koordinat\n",
      "1.Untuk menambah titik\n",
      "2.Untuk lihat hasil coretan\n",
      "3.Untuk hapus semua coretan\n",
      "4.Untuk menghentikan program\n",
      "\n",
      "Masukkan pilihan anda: 1\n",
      "Masukkan titik-titik x: [-1,-4,-4,-1,-4,-4,0,2,4,3,1]\n",
      "Masukkan titik-titik y: [4,4,0,0,0,-4,-4,4,-4,0,0]\n",
      "_____________________\n",
      "\n",
      "Isi dengan titik koordinat\n",
      "1.Untuk menambah titik\n",
      "2.Untuk lihat hasil coretan\n",
      "3.Untuk hapus semua coretan\n",
      "4.Untuk menghentikan program\n",
      "\n",
      "Masukkan pilihan anda: 2\n"
     ]
    },
    {
     "data": {
      "image/png": "[encoded data removed]",
      "text/plain": [
       "<Figure size 432x288 with 1 Axes>"
      ]
     },
     "metadata": {
      "needs_background": "light"
     },
     "output_type": "display_data"
    },
    {
     "name": "stdout",
     "output_type": "stream",
     "text": [
      "_____________________\n",
      "\n",
      "Isi dengan titik koordinat\n",
      "1.Untuk menambah titik\n",
      "2.Untuk lihat hasil coretan\n",
      "3.Untuk hapus semua coretan\n",
      "4.Untuk menghentikan program\n",
      "\n",
      "Masukkan pilihan anda: 1\n",
      "Masukkan titik-titik x: [0,-1,-0.5,0,0.5,1,0]\n",
      "Masukkan titik-titik y: [0,2,3,2,3,2,0]\n",
      "_____________________\n",
      "\n",
      "Isi dengan titik koordinat\n",
      "1.Untuk menambah titik\n",
      "2.Untuk lihat hasil coretan\n",
      "3.Untuk hapus semua coretan\n",
      "4.Untuk menghentikan program\n",
      "\n",
      "Masukkan pilihan anda: 2\n"
     ]
    },
    {
     "data": {
      "image/png": "[encoded data removed]",
      "text/plain": [
       "<Figure size 432x288 with 1 Axes>"
      ]
     },
     "metadata": {
      "needs_background": "light"
     },
     "output_type": "display_data"
    },
    {
     "name": "stdout",
     "output_type": "stream",
     "text": [
      "_____________________\n",
      "\n",
      "Isi dengan titik koordinat\n",
      "1.Untuk menambah titik\n",
      "2.Untuk lihat hasil coretan\n",
      "3.Untuk hapus semua coretan\n",
      "4.Untuk menghentikan program\n",
      "\n",
      "Masukkan pilihan anda: 3\n"
     ]
    },
    {
     "data": {
      "image/png": "[encoded data removed]",
      "text/plain": [
       "<Figure size 432x288 with 1 Axes>"
      ]
     },
     "metadata": {
      "needs_background": "light"
     },
     "output_type": "display_data"
    },
    {
     "name": "stdout",
     "output_type": "stream",
     "text": [
      "_____________________\n",
      "\n",
      "Isi dengan titik koordinat\n",
      "1.Untuk menambah titik\n",
      "2.Untuk lihat hasil coretan\n",
      "3.Untuk hapus semua coretan\n",
      "4.Untuk menghentikan program\n",
      "\n",
      "Masukkan pilihan anda: 4\n",
      "Terima kasih telah bermain !\n"
     ]
    }
   ],
   "source": [
    "print(\"Selamat datang di program corat-coret\") #memunculkan kalimat \"selamat datang di program corat-coret\"\n",
    "print(\"Ini ada papan kosong untuk corat-coret\") #memunculkan kalimat \"ini ada papan kosong untuk corat-coret\"\n",
    "import numpy as np\n",
    "import matplotlib.pyplot as plt #modul untuk plot\n",
    "plt.xlim(-5,5) and plt.ylim(-5,5) #agar range pada sumbu x dan y tetap\n",
    "plt.show() #menampilkan grafik\n",
    "\n",
    "pilihan=4\n",
    "i=0\n",
    "A=[]\n",
    "B=[]\n",
    "while(i<pilihan): #meminta terus menerus pilihan\n",
    "    print(\"_____________________\")\n",
    "    print(\"\\nIsi dengan titik koordinat\")\n",
    "    print(\"1.Untuk menambah titik\")\n",
    "    print(\"2.Untuk lihat hasil coretan\")\n",
    "    print(\"3.Untuk hapus semua coretan\")\n",
    "    print(\"4.Untuk menghentikan program\\n\")\n",
    "    pilihan=int(input(\"Masukkan pilihan anda: \"))\n",
    "\n",
    "    if pilihan==1:\n",
    "        x=eval(input(\"Masukkan titik-titik x: \")) # eval() mengubah apapun yang diinput menjadi kode dalam program\n",
    "        y=eval(input(\"Masukkan titik-titik y: \")) # eval() mengubah apapun yang diinput menjadi kode dalam program\n",
    "        \n",
    "    elif pilihan == 2:\n",
    "        plt.plot(1) #menampilkan kembali plot sebelumnya\n",
    "        A= np.append(x,A)\n",
    "        B=np.append(y,B) \n",
    "        for i in range(1):    \n",
    "            plt.plot(A,B) #menampilkan plot baru\n",
    "            plt.xlim(-5,5) and plt.ylim(-5,5) #agar range pada sumbu x dan y tetap\n",
    "            plt.show()\n",
    "            \n",
    "    elif pilihan==3:\n",
    "         #menghapus coretan\n",
    "        plt.xlim(-5,5) and plt.ylim(-5,5)\n",
    "        plt.show() #menampilkan grafik\n",
    "        \n",
    "    elif pilihan==4:\n",
    "        print(\"Terima kasih telah bermain !\")\n",
    "        break # menghentikan program\n",
    "        "
   ]
  },
  {
   "cell_type": "raw",
   "metadata": {},
   "source": [
    "Soal 5\n",
    "Programnya adalah membuat grafik berdasarkan titik koordinat yang dimasukkan dengan menggunakan package matplotlib.pyplot.\n",
    "Algoritmanya :\n",
    "1. Menampilkan grafik kosong terlebih dahulu. Menggunakan plt.xlim() dan plt.ylim() agar range pada sumbu x dan y tetap.\n",
    "2. Membuat 4 kondisi pilihan\n",
    "    jika pilih 1, program akan meminta untuk menambah titik-titik koordinat sumbu x dan y, digunakan fungsi eval(), untuk mengubah apapun yang diinput             menjadi kode dalam program.\n",
    "    jika pilih 2, coretan akan muncul dalam bentuk grafik, dengan menggunakan append maka grafik yang sebelumnya telah terbentuk akan muncul kembali         saat ditambah titik-titik\n",
    "    jika pilih 3, coretan akan terhapus\n",
    "    jika pilih 4, program akan berhenti, di break\n",
    "\n"
   ]
  }
 ],
 "metadata": {
  "kernelspec": {
   "display_name": "Python 3",
   "language": "python",
   "name": "python3"
  },
  "language_info": {
   "codemirror_mode": {
    "name": "ipython",
    "version": 3
   },
   "file_extension": ".py",
   "mimetype": "text/x-python",
   "name": "python",
   "nbconvert_exporter": "python",
   "pygments_lexer": "ipython3",
   "version": "3.8.3"
  }
 },
 "nbformat": 4,
 "nbformat_minor": 4
}
