{
 "cells": [
  {
   "cell_type": "code",
   "execution_count": 73,
   "metadata": {},
   "outputs": [],
   "source": [
    "import random\n",
    "\n",
    "def makansalak(n,m,opsi): #terdapat 3 parameter dari fungsi makansalak\n",
    "    ratarata = 0 #inisiasi awal rata-rata=0\n",
    "    \n",
    "    for i in range(m):\n",
    "        if opsi == 1: # Untuk print jika pilihan 1\n",
    "            print(\"\")\n",
    "            print(\"Percobaan {}:\".format(i+1))\n",
    "            print(\"_____________________\")\n",
    "        hari = 0  #inisiasi awal hari=0 \n",
    "        salak=n # jumlahSalak untuk temporary\n",
    "         \n",
    "        \n",
    "        while salak > 0:\n",
    "            kegiatan = random.randint(1,2) # banyaknya kegiatan random makansalak \n",
    "            if kegiatan == 1:\n",
    "                makansalak = 1\n",
    "            else:\n",
    "                if salak % 2 == 0: \n",
    "                    makansalak = int(salak/4)# saat jumlah k salak genap\n",
    "                else: \n",
    "                    makansalak = int(salak/5) + 1# saat jumlah k salak ganjil\n",
    "                    \n",
    "            salak -= makansalak\n",
    "            hari += 1 #harinya terus bertambah\n",
    "            \n",
    "            if opsi == 1:\n",
    "                print(\"Hari {}: Makan {} salak\".format(hari,makansalak))\n",
    "        ratarata += hari/m\n",
    "    print(\"Rata-rata hari: {} hari\".format(ratarata))"
   ]
  },
  {
   "cell_type": "code",
   "execution_count": 74,
   "metadata": {},
   "outputs": [
    {
     "name": "stdout",
     "output_type": "stream",
     "text": [
      "\n",
      "Percobaan 1:\n",
      "_____________________\n",
      "Hari 1: Makan 5 salak\n",
      "Hari 2: Makan 1 salak\n",
      "Hari 3: Makan 3 salak\n",
      "Hari 4: Makan 3 salak\n",
      "Hari 5: Makan 2 salak\n",
      "Hari 6: Makan 1 salak\n",
      "Hari 7: Makan 2 salak\n",
      "Hari 8: Makan 1 salak\n",
      "Hari 9: Makan 1 salak\n",
      "Hari 10: Makan 1 salak\n",
      "\n",
      "Percobaan 2:\n",
      "_____________________\n",
      "Hari 1: Makan 1 salak\n",
      "Hari 2: Makan 4 salak\n",
      "Hari 3: Makan 1 salak\n",
      "Hari 4: Makan 3 salak\n",
      "Hari 5: Makan 1 salak\n",
      "Hari 6: Makan 1 salak\n",
      "Hari 7: Makan 1 salak\n",
      "Hari 8: Makan 2 salak\n",
      "Hari 9: Makan 1 salak\n",
      "Hari 10: Makan 2 salak\n",
      "Hari 11: Makan 1 salak\n",
      "Hari 12: Makan 1 salak\n",
      "Hari 13: Makan 1 salak\n",
      "Rata-rata hari: 11.5 hari\n"
     ]
    }
   ],
   "source": [
    "makansalak(20,2,1)"
   ]
  },
  {
   "cell_type": "code",
   "execution_count": 75,
   "metadata": {},
   "outputs": [
    {
     "name": "stdout",
     "output_type": "stream",
     "text": [
      "Rata-rata hari: 42.482999999999905 hari\n"
     ]
    }
   ],
   "source": [
    "makansalak(1000,1000,2)"
   ]
  },
  {
   "cell_type": "raw",
   "metadata": {},
   "source": [
    "Soal 2 :\n",
    "membuat algoritma fungsi yang bernama makansalak, yaitu melakukan sebanyak m percobaan untuk mencari rata-rata hari yang dibutuhkan dalam menghabiskan n buah salak\n",
    "1. mendefinisikan suatu fungsi makansalak yang memuat 3 parameter. n untuk banyak salak, m untuk banyak percobaan, dan opsi sebagai pilihan apakah akan terlihat prosesnya atau tidak.\n",
    "2. saat dipilih opsi 1, proses akan terlihat. jika k buah salak yang tersisa adalah bilangan genap, maka makan (salak/4) salak sedangkan jika k buah salak yang tersisa adalah bilangan ganjil, maka makan (salak/5)+1. selanjutnya, akan terlihat rata-rata hari untuk menghabiskan n buah salak dari m buah percobaan\n",
    "3. saat dipilih opsi 2, hanya akan terlihat rata-rata hari untuk menghabiskan n buah salak dari m buah percobaan.\n",
    "\n",
    "\n"
   ]
  }
 ],
 "metadata": {
  "kernelspec": {
   "display_name": "Python 3",
   "language": "python",
   "name": "python3"
  },
  "language_info": {
   "codemirror_mode": {
    "name": "ipython",
    "version": 3
   },
   "file_extension": ".py",
   "mimetype": "text/x-python",
   "name": "python",
   "nbconvert_exporter": "python",
   "pygments_lexer": "ipython3",
   "version": "3.8.3"
  }
 },
 "nbformat": 4,
 "nbformat_minor": 4
}
