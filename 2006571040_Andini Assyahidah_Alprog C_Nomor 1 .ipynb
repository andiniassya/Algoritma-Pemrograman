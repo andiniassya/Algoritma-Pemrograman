{
 "cells": [
  {
   "cell_type": "code",
   "execution_count": 89,
   "metadata": {},
   "outputs": [],
   "source": [
    "def passwordchecker(pw):\n",
    "    syarat= []\n",
    "    #syarat 1\n",
    "    if len(pw)<8 or len(pw)>32: \n",
    "        syarat.append(1)\n",
    "        \n",
    "    #syarat 2\n",
    "    if any('A' <= huruf <= 'Z' for huruf in pw) is False: \n",
    "        syarat.append(2)\n",
    "        \n",
    "    #syarat 3    \n",
    "    if any('a'<= huruf <= 'z' for huruf in pw) is False:\n",
    "        syarat.append(3)\n",
    "        \n",
    "    #syarat 4  \n",
    "    if not any( angka.isdigit() for angka in pw): \n",
    "        syarat.append(4)\n",
    "        \n",
    "    #syarat 5\n",
    "    for i in range(len(syarat)-1): \n",
    "        if pw[i]==pw[i+1]:\n",
    "            syarat.append(5)\n",
    "         \n",
    "    if len(syarat) == 0: # mereturn 0 jika password sudah kuat\n",
    "        return 0\n",
    "    else: # mereturn 1 dan array berisi syarat jika password belum kuat\n",
    "        return (1,(syarat))         \n",
    "        "
   ]
  },
  {
   "cell_type": "code",
   "execution_count": 90,
   "metadata": {},
   "outputs": [
    {
     "data": {
      "text/plain": [
       "0"
      ]
     },
     "execution_count": 90,
     "metadata": {},
     "output_type": "execute_result"
    }
   ],
   "source": [
    "passwordchecker('ABCD226110b') #password sudah kuat"
   ]
  },
  {
   "cell_type": "code",
   "execution_count": 91,
   "metadata": {},
   "outputs": [
    {
     "data": {
      "text/plain": [
       "(1, [2])"
      ]
     },
     "execution_count": 91,
     "metadata": {},
     "output_type": "execute_result"
    }
   ],
   "source": [
    "passwordchecker('abcd226110b') #password tidak ada huruf kapital"
   ]
  },
  {
   "cell_type": "code",
   "execution_count": 92,
   "metadata": {},
   "outputs": [
    {
     "data": {
      "text/plain": [
       "(1, [3])"
      ]
     },
     "execution_count": 92,
     "metadata": {},
     "output_type": "execute_result"
    }
   ],
   "source": [
    "passwordchecker('ABCD226110A') #password tidak ada huruf kecil"
   ]
  },
  {
   "cell_type": "code",
   "execution_count": 93,
   "metadata": {},
   "outputs": [
    {
     "data": {
      "text/plain": [
       "(1, [2, 3, 5])"
      ]
     },
     "execution_count": 93,
     "metadata": {},
     "output_type": "execute_result"
    }
   ],
   "source": [
    "passwordchecker('222110369') #tidak mengandung huruf dan mengandung 3 karakter berurutan sama"
   ]
  },
  {
   "cell_type": "code",
   "execution_count": 94,
   "metadata": {},
   "outputs": [
    {
     "data": {
      "text/plain": [
       "(1, [2])"
      ]
     },
     "execution_count": 94,
     "metadata": {},
     "output_type": "execute_result"
    }
   ],
   "source": [
    "passwordchecker('afgt221103789') "
   ]
  },
  {
   "cell_type": "code",
   "execution_count": 95,
   "metadata": {},
   "outputs": [
    {
     "data": {
      "text/plain": [
       "(1, [2, 3, 5])"
      ]
     },
     "execution_count": 95,
     "metadata": {},
     "output_type": "execute_result"
    }
   ],
   "source": [
    "passwordchecker('111220369')"
   ]
  },
  {
   "cell_type": "code",
   "execution_count": 96,
   "metadata": {},
   "outputs": [
    {
     "data": {
      "text/plain": [
       "(1, [1])"
      ]
     },
     "execution_count": 96,
     "metadata": {},
     "output_type": "execute_result"
    }
   ],
   "source": [
    "passwordchecker('A8wyqsh') # karakter password tidak 8-32 karakter"
   ]
  },
  {
   "cell_type": "raw",
   "metadata": {},
   "source": [
    "soal 1 \n",
    "Membuat suatu algoritma untuk mengecek kekuatan dari password dengan syarat \n",
    "1.Memiliki panjang 8-32 karakter \n",
    "2.Mengandung setidaknya satu huruf kapital \n",
    "3 .Mengandung setidaknya satu huruf kecil\n",
    "4.Mengandung setidaknya satu angka \n",
    "5.Mengandung paling banyak 2 karakter berurutan yang sama\n",
    "\n",
    "algoritmanya : \n",
    "1.mendefinisikan suatu fungsi bernama passwordchecker \n",
    "2.menginisiasikan terlebih dahulu syarat dalam array kosong [ ] \n",
    "3.memeriksa masing masing syarat menggunakan syntax any() dan list comprehension pada masing masing syarat diberikan syarat.append() agar nantinya saat dioutput array terlihat nomor syarat yang belum terpenuhi \n",
    "4.jika password sudah kuat, akan direturn 0, sedangkan jika belum kuat akan muncul (1, []), dimana 1 menandakan password belum kuat dan [ ] berisi nomor syarat yang belum terpenuhi."
   ]
  }
 ],
 "metadata": {
  "kernelspec": {
   "display_name": "Python 3",
   "language": "python",
   "name": "python3"
  },
  "language_info": {
   "codemirror_mode": {
    "name": "ipython",
    "version": 3
   },
   "file_extension": ".py",
   "mimetype": "text/x-python",
   "name": "python",
   "nbconvert_exporter": "python",
   "pygments_lexer": "ipython3",
   "version": "3.8.3"
  }
 },
 "nbformat": 4,
 "nbformat_minor": 4
}
