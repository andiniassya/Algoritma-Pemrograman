{
 "cells": [
  {
   "cell_type": "code",
   "execution_count": 153,
   "metadata": {},
   "outputs": [],
   "source": [
    "def matriks_ajaib(ar):\n",
    "    \n",
    "    # membuat array A\n",
    "    A = [[ar[i] + ar[j] \n",
    "          if i-1 > j \n",
    "          else ar[i] - ar[j] \n",
    "          for j in range(len(ar))]\n",
    "          for i in range(len(ar))] \n",
    "    \n",
    "    m = np.matrix(A) #mentransform ke module matriks numpy\n",
    "    \n",
    "    for i in range(len(A)):\n",
    "        a = np.delete(A,i,1) # Delete Baris ke-i\n",
    "        a = np.delete(a,i,0) # Delete Kolom ke-i\n",
    "        for k in range(len(a)): \n",
    "            for j in range(len(a)):\n",
    "                    a[k,j] = 1 # ubah nilai diagonal dengan 1\n",
    "                    break\n",
    "        m[i,i] = np.linalg.det(a) # mengubah nilai diagonal dengan nilai determinan\n",
    "    return m#hasil matriks"
   ]
  },
  {
   "cell_type": "code",
   "execution_count": 154,
   "metadata": {},
   "outputs": [
    {
     "data": {
      "text/plain": [
       "matrix([[ 0, -1, -2, -3],\n",
       "        [ 1,  0, -1, -2],\n",
       "        [ 4,  1, -3, -1],\n",
       "        [ 5,  6,  1,  0]])"
      ]
     },
     "execution_count": 154,
     "metadata": {},
     "output_type": "execute_result"
    }
   ],
   "source": [
    "matriks_ajaib([1,2,3,4])"
   ]
  },
  {
   "cell_type": "code",
   "execution_count": 155,
   "metadata": {},
   "outputs": [
    {
     "data": {
      "text/plain": [
       "matrix([[ 0, -1, -2, -3, -4, -5],\n",
       "        [ 1,  0, -1, -2, -3, -4],\n",
       "        [12,  1,  0, -1, -2, -3],\n",
       "        [13, 14,  1,  0, -1, -2],\n",
       "        [14, 15, 16,  1,  0, -1],\n",
       "        [15, 16, 17, 18,  1,  0]])"
      ]
     },
     "execution_count": 155,
     "metadata": {},
     "output_type": "execute_result"
    }
   ],
   "source": [
    "matriks_ajaib([5,6,7,8,9,10])"
   ]
  },
  {
   "cell_type": "raw",
   "metadata": {},
   "source": [
    "Soal 3\n",
    "Membuat matriks ajaib dengan algoritma :\n",
    "1. Input -> array berisi bilangan bulat [a,b,c....] dengan panjang n\n",
    "2. Membuat matriks 0 bernama A, ukuran nxn\n",
    "3. Pada entri a(ij) matriks A dengan i<j, nilainya adalah elemen array ke-i dikurang elemen array ke-j\n",
    "4. Pada entri a(ij) matriks A dengan i<j, nilanya adalah elemen array ke i ditambah elemen array ke-j\n",
    "5. Membuat submatriks dari A dengan menghilangkan semua entri baris i dan entri kolom i, kemudian mengisi diagonalnya dengan 1\n",
    "6. Matriks A yang sudah terbentuk, diagonal utamanya akan diisi dengan nilai determinan dari submatriks A\n",
    "7. output -> matriks_ajaib"
   ]
  }
 ],
 "metadata": {
  "kernelspec": {
   "display_name": "Python 3",
   "language": "python",
   "name": "python3"
  },
  "language_info": {
   "codemirror_mode": {
    "name": "ipython",
    "version": 3
   },
   "file_extension": ".py",
   "mimetype": "text/x-python",
   "name": "python",
   "nbconvert_exporter": "python",
   "pygments_lexer": "ipython3",
   "version": "3.8.3"
  }
 },
 "nbformat": 4,
 "nbformat_minor": 4
}
